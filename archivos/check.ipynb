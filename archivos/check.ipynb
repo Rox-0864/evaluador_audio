{
 "cells": [
  {
   "cell_type": "code",
   "execution_count": 1,
   "metadata": {},
   "outputs": [],
   "source": [
    "API_KEY = \"\""
   ]
  },
  {
   "cell_type": "code",
   "execution_count": 2,
   "metadata": {},
   "outputs": [
    {
     "name": "stdout",
     "output_type": "stream",
     "text": [
      "Evaluación simple: Excelente, cubriste el punto principal! Sin embargo, te faltó mencionar que el overfitting se caracteriza por que el modelo se ajusta demasiado a los datos de entrenamiento, lo que lo hace muy específico de ese conjunto de datos y no generalizable a nuevos datos. Mejora en tu respuesta mencionando que el overfitting se traduce en una pérdida de capacidad para generalizar y que puede llevar a un rendimiento pobre en datos nuevos.\n"
     ]
    }
   ],
   "source": [
    "import request_model\n",
    "\n",
    "#Función simple (sin historial)\n",
    "resultado_simple = request_model.evaluar_con_groq(\n",
    "        API_KEY,\n",
    "        \"¿Qué es overfitting?\",\n",
    "        \"Es cuando el modelo se ajusta demasiado a los datos de entrenamiento.\"\n",
    ")\n",
    "print(\"Evaluación simple:\", resultado_simple)"
   ]
  },
  {
   "cell_type": "code",
   "execution_count": 3,
   "metadata": {},
   "outputs": [
    {
     "name": "stdout",
     "output_type": "stream",
     "text": [
      "📁 Archivo leído: 244551 bytes\n",
      "🔄 Transcribiendo...\n",
      " No es del todo correcto. En realidad, preprocesar los datos es clave porque garantiza que el modelo reciba información limpia, consistente y en el formato adecuado. Sin eso, el modelo aprende mal o no aprende.\n"
     ]
    }
   ],
   "source": [
    "import spech_to_text\n",
    "\n",
    "with open(\"response.mp3\", \"rb\") as f:\n",
    "            audio_bytes = f.read()\n",
    "        \n",
    "print(f\"📁 Archivo leído: {len(audio_bytes)} bytes\")\n",
    "print(\"🔄 Transcribiendo...\")\n",
    "        \n",
    "# Transcribir\n",
    "resultado = spech_to_text.transcribir_con_groq(audio_bytes, API_KEY)\n",
    "print(resultado)"
   ]
  },
  {
   "cell_type": "code",
   "execution_count": 1,
   "metadata": {},
   "outputs": [
    {
     "name": "stdout",
     "output_type": "stream",
     "text": [
      "📁 Archivo leído: 244551 bytes\n",
      "🔄 Transcribiendo...\n",
      "No es del todo correcto. En realidad, preprocesar los datos es clave porque garantiza que el modelo reciba información limpia, consistente y en el formato adecuado. Sin eso, el modelo aprende mal o no aprende.\n"
     ]
    }
   ],
   "source": [
    "import spech_to_text\n",
    "API_KEY = \"\"\n",
    "\n",
    "with open(\"response.mp3\", \"rb\") as f:\n",
    "            audio_bytes = f.read()\n",
    "\n",
    "print(f\"📁 Archivo leído: {len(audio_bytes)} bytes\")\n",
    "print(\"🔄 Transcribiendo...\")   \n",
    "\n",
    "resultado = spech_to_text.transcribir_con_assemblyai(audio_bytes, API_KEY)\n",
    "print(resultado)"
   ]
  },
  {
   "cell_type": "code",
   "execution_count": null,
   "metadata": {},
   "outputs": [],
   "source": [
    "#texto to speech"
   ]
  },
  {
   "cell_type": "code",
   "execution_count": null,
   "metadata": {},
   "outputs": [],
   "source": [
    "#integrate all"
   ]
  }
 ],
 "metadata": {
  "interpreter": {
   "hash": "ef5b8d18e6fdfd933dcf2d87676eea39b16d717784d6db55cec332fd8bca603e"
  },
  "kernelspec": {
   "display_name": "Python 3.9.13 64-bit (windows store)",
   "language": "python",
   "name": "python3"
  },
  "language_info": {
   "codemirror_mode": {
    "name": "ipython",
    "version": 3
   },
   "file_extension": ".py",
   "mimetype": "text/x-python",
   "name": "python",
   "nbconvert_exporter": "python",
   "pygments_lexer": "ipython3",
   "version": "3.11.11"
  },
  "orig_nbformat": 4
 },
 "nbformat": 4,
 "nbformat_minor": 2
}
