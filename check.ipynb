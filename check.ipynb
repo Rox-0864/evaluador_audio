{
 "cells": [
  {
   "cell_type": "code",
   "execution_count": 2,
   "metadata": {},
   "outputs": [],
   "source": [
    "API_KEY = \"\""
   ]
  },
  {
   "cell_type": "code",
   "execution_count": 3,
   "metadata": {},
   "outputs": [
    {
     "name": "stdout",
     "output_type": "stream",
     "text": [
      "...............🔵EXEMPLO  0 ...............\n",
      ".............................................\n",
      "Pregunta =             ¿Qué es overfitting?\n",
      "Respuesta Estudiante = Es cuando el modelo se ajusta demasiado a los datos de entrenamiento.\n",
      "Evaluacion Modelo =    Excelente, cubriste el punto principal! Sin embargo, te faltó mencionar que el overfitting se caracteriza por que el modelo se ajusta demasiado a los datos de entrenamiento, lo que lo hace muy específico de ese conjunto de datos y no generalizable a nuevos datos. También es importante mencionar que esto puede ocurrir cuando el modelo tiene demasiadas capacidades o cuando el conjunto de datos de entrenamiento es pequeño.\n",
      "#Tokens entrada=  245 #Tokens salida= 98\n",
      "Latencia=  0.6658809185028076\n",
      ".............................................\n",
      "...............🔵EXEMPLO  1 ...............\n",
      ".............................................\n",
      "Pregunta =             ¿Qué es un modelo supervisado?\n",
      "Respuesta Estudiante = Es un modelo que aprende a partir de datos etiquetados para hacer predicciones o clasificaciones.\n",
      "Evaluacion Modelo =    Excelente, cubriste el punto principal! Un modelo supervisado es efectivamente un tipo de modelo que aprende a partir de datos etiquetados para hacer predicciones o clasificaciones. Sin embargo, podrías haber añadido un poco más de profundidad a tu respuesta. Por ejemplo, podrías haber mencionado que el objetivo es minimizar la diferencia entre las predicciones y las etiquetas reales, o que el modelo se entrena para aprender la relación entre las características y las etiquetas. Mejora en eso y tendrás una respuesta aún más completa.\n",
      "#Tokens entrada=  253 #Tokens salida= 122\n",
      "Latencia=  0.3346974849700928\n",
      ".............................................\n",
      "...............🔵EXEMPLO  2 ...............\n",
      ".............................................\n",
      "Pregunta =             ¿Qué es la validación cruzada?\n",
      "Respuesta Estudiante = Es una técnica que divide los datos en partes.\n",
      "Evaluacion Modelo =    Excelente, cubriste el tema general de la validación cruzada, pero te faltó profundizar un poco más. Mejora en tu respuesta mencionando que la validación cruzada (o cross-validation) es una técnica que divide los datos en conjuntos de entrenamiento y prueba, y que se repite este proceso varias veces, cambiando el conjunto de prueba cada vez, para evaluar la generalización del modelo y evitar sobreajuste.\n",
      "#Tokens entrada=  242 #Tokens salida= 97\n",
      "Latencia=  0.3007934093475342\n",
      ".............................................\n",
      "...............🔵EXEMPLO  3 ...............\n",
      ".............................................\n",
      "Pregunta =             ¿Qué es el sesgo en un modelo?\n",
      "Respuesta Estudiante = Es un error que puede afectar el rendimiento del modelo.\n",
      "Evaluacion Modelo =    Excelente, cubriste el punto principal! Sin embargo, te faltó profundizar un poco más. El sesgo en un modelo se refiere a la tendencia de un modelo a predecir resultados que no son representativos de la población real, debido a la presencia de sesgos en los datos de entrenamiento o en la implementación del modelo. Por ejemplo, un modelo que se entrena con datos que tienen una distribución de género desequilibrada puede tender a predecir resultados sesgados hacia un género en particular. Mejora en tu respuesta explicando qué tipo de sesgos pueden ocurrir y cómo afectan el rendimiento del modelo.\n",
      "#Tokens entrada=  245 #Tokens salida= 145\n",
      "Latencia=  0.512592077255249\n",
      ".............................................\n",
      "...............🔵EXEMPLO  4 ...............\n",
      ".............................................\n",
      "Pregunta =             ¿Qué es PCA (Análisis de Componentes Principales)?\n",
      "Respuesta Estudiante =  Es una técnica de reducción de dimensionalidad que transforma los datos en un nuevo espacio con menos variables conservando la mayor varianza posible.\n",
      "Evaluacion Modelo =    Excelente, cubriste el tema principal! Sin embargo, te faltó mencionar que la PCA también busca encontrar las principales direcciones de varianza en el espacio de los datos, es decir, las componentes que explican la mayor cantidad de varianza en los datos. Además, podrías haber mencionado que la PCA es una técnica no supervisada, es decir, no requiere etiquetas o clasificaciones previas para aplicarse.\n",
      "#Tokens entrada=  268 #Tokens salida= 99\n",
      "Latencia=  0.3235807418823242\n",
      ".............................................\n"
     ]
    }
   ],
   "source": [
    "import request_model\n",
    "import time \n",
    "\n",
    "preguntas = [\"¿Qué es overfitting?\",\n",
    "             \"¿Qué es un modelo supervisado?\",\n",
    "             \"¿Qué es la validación cruzada?\",\n",
    "             \"¿Qué es el sesgo en un modelo?\",\n",
    "             \"¿Qué es PCA (Análisis de Componentes Principales)?\"]\n",
    "respuestas = [\"Es cuando el modelo se ajusta demasiado a los datos de entrenamiento.\",\n",
    "             \"Es un modelo que aprende a partir de datos etiquetados para hacer predicciones o clasificaciones.\",\n",
    "             \"Es una técnica que divide los datos en partes.\",\n",
    "             \"Es un error que puede afectar el rendimiento del modelo.\",\n",
    "             \" Es una técnica de reducción de dimensionalidad que transforma los datos en un nuevo espacio con menos variables conservando la mayor varianza posible.\"]\n",
    "\n",
    "for example in range(5):\n",
    "        pregunta = preguntas[example]\n",
    "        respuesta = respuestas[example]\n",
    "        # Antes de la petición\n",
    "        start_time = time.time()\n",
    "\n",
    "        resultado_simple = request_model.evaluar_con_groq(\n",
    "        API_KEY,\n",
    "        pregunta,\n",
    "        respuesta\n",
    "        )\n",
    "        # Después de recibir la respuesta\n",
    "        end_time = time.time()\n",
    "        latencia = end_time - start_time\n",
    "        \n",
    "        # Obtener el JSON completo\n",
    "        json_completo = resultado_simple.json()\n",
    "\n",
    "        # Extraer la evaluación (como ya hacías)\n",
    "        evaluacion = json_completo['choices'][0]['message']['content']\n",
    "\n",
    "        # Extraer el usage\n",
    "        usage = json_completo.get('usage', {})\n",
    "        prompt_tokens = usage.get('prompt_tokens', 0)\n",
    "        completion_tokens = usage.get('completion_tokens', 0)\n",
    "\n",
    "        respuesta_modelo = resultado_simple.json()['choices'][0]['message']['content']\n",
    "\n",
    "        print(\"...............🔵EXEMPLO \", str(example), \"...............\")\n",
    "        print(\".............................................\")\n",
    "        print(\"Pregunta =            \", pregunta)\n",
    "        print(\"Respuesta Estudiante =\", respuesta)\n",
    "        print(\"Evaluacion Modelo =   \", respuesta_modelo)\n",
    "        print(\"#Tokens entrada= \",prompt_tokens, \"#Tokens salida=\", completion_tokens)\n",
    "        print(\"Latencia= \", latencia )\n",
    "        print(\".............................................\")"
   ]
  },
  {
   "cell_type": "code",
   "execution_count": 3,
   "metadata": {},
   "outputs": [
    {
     "name": "stdout",
     "output_type": "stream",
     "text": [
      "📁 Archivo leído: 244551 bytes\n",
      "🔄 Transcribiendo...\n",
      " No es del todo correcto. En realidad, preprocesar los datos es clave porque garantiza que el modelo reciba información limpia, consistente y en el formato adecuado. Sin eso, el modelo aprende mal o no aprende.\n"
     ]
    }
   ],
   "source": [
    "import spech_to_text\n",
    "\n",
    "with open(\"response.mp3\", \"rb\") as f:\n",
    "            audio_bytes = f.read()\n",
    "        \n",
    "print(f\"📁 Archivo leído: {len(audio_bytes)} bytes\")\n",
    "print(\"🔄 Transcribiendo...\")\n",
    "        \n",
    "# Transcribir\n",
    "resultado = spech_to_text.transcribir_con_groq(audio_bytes, API_KEY)\n",
    "print(resultado)"
   ]
  },
  {
   "cell_type": "code",
   "execution_count": 1,
   "metadata": {},
   "outputs": [
    {
     "name": "stdout",
     "output_type": "stream",
     "text": [
      "📁 Archivo leído: 244551 bytes\n",
      "🔄 Transcribiendo...\n",
      "No es del todo correcto. En realidad, preprocesar los datos es clave porque garantiza que el modelo reciba información limpia, consistente y en el formato adecuado. Sin eso, el modelo aprende mal o no aprende.\n"
     ]
    }
   ],
   "source": [
    "import spech_to_text\n",
    "API_KEY = \"\"\n",
    "\n",
    "with open(\"response.mp3\", \"rb\") as f:\n",
    "            audio_bytes = f.read()\n",
    "\n",
    "print(f\"📁 Archivo leído: {len(audio_bytes)} bytes\")\n",
    "print(\"🔄 Transcribiendo...\")   \n",
    "\n",
    "resultado = spech_to_text.transcribir_con_assemblyai(audio_bytes, API_KEY)\n",
    "print(resultado)"
   ]
  },
  {
   "cell_type": "code",
   "execution_count": null,
   "metadata": {},
   "outputs": [],
   "source": [
    "#texto to speech"
   ]
  },
  {
   "cell_type": "code",
   "execution_count": null,
   "metadata": {},
   "outputs": [],
   "source": [
    "#integrate all"
   ]
  }
 ],
 "metadata": {
  "interpreter": {
   "hash": "ef5b8d18e6fdfd933dcf2d87676eea39b16d717784d6db55cec332fd8bca603e"
  },
  "kernelspec": {
   "display_name": "Python 3.9.13 64-bit (windows store)",
   "language": "python",
   "name": "python3"
  },
  "language_info": {
   "codemirror_mode": {
    "name": "ipython",
    "version": 3
   },
   "file_extension": ".py",
   "mimetype": "text/x-python",
   "name": "python",
   "nbconvert_exporter": "python",
   "pygments_lexer": "ipython3",
   "version": "3.11.11"
  },
  "orig_nbformat": 4
 },
 "nbformat": 4,
 "nbformat_minor": 2
}
