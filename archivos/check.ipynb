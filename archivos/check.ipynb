{
 "cells": [
  {
   "cell_type": "code",
   "execution_count": 3,
   "metadata": {},
   "outputs": [],
   "source": [
    "import spech_to_text"
   ]
  },
  {
   "cell_type": "code",
   "execution_count": 1,
   "metadata": {},
   "outputs": [],
   "source": [
    "API_KEY = \"\""
   ]
  },
  {
   "cell_type": "code",
   "execution_count": null,
   "metadata": {},
   "outputs": [
    {
     "name": "stdout",
     "output_type": "stream",
     "text": [
      "Evaluación simple: Excelente, cubriste el punto principal! Sin embargo, te faltó mencionar que el overfitting se caracteriza por que el modelo se ajusta demasiado a los datos de entrenamiento, lo que lo hace muy específico de ese conjunto de datos y no generalizable a nuevos datos. Mejora en tu respuesta mencionando que el overfitting se traduce en una pérdida de capacidad para generalizar y que puede llevar a un rendimiento pobre en datos nuevos.\n"
     ]
    }
   ],
   "source": [
    "# import evaluador_audio.archivos.request_model as request_model\n",
    "\n",
    "#Función simple (sin historial)\n",
    "resultado_simple = request_model.evaluar_con_groq(\n",
    "        API_KEY,\n",
    "        \"¿Qué es overfitting?\",\n",
    "        \"Es cuando el modelo se ajusta demasiado a los datos de entrenamiento.\"\n",
    ")\n",
    "print(\"Evaluación simple:\", resultado_simple)"
   ]
  },
  {
   "cell_type": "code",
   "execution_count": 4,
   "metadata": {},
   "outputs": [
    {
     "name": "stdout",
     "output_type": "stream",
     "text": [
      "📁 Archivo leído: 645035 bytes\n",
      "🔄 Transcribiendo...\n",
      " Nosotros los mexicanos decimos, no chingues wey. Y nosotros los españoles decimos, no jodas tío. Nosotros los mexicanos decimos, vamos por unas chelas. Nosotros los españoles decimos, vamos a por unas birras. Nosotros los mexicanos decimos, necesito comprar unos lentes. Nosotros los españoles decimos, necesito comprar unas gafas. Nosotros los mexicanos decimos, que chingados estas haciendo. Y nosotros los españoles decimos, que coño haces. Nosotros los mexicanos decimos, que van a ser ustedes después. Y nosotros los españoles decimos, y que vais a hacer vosotros después. Nosotros los mexicanos decimos estoy sorprendido. Nosotros los españoles decimos estoy flipando. Y nosotros los mexicanos decimos estoy enojado. Y nosotros los españoles decimos estoy cabreado o estoy mosqueado.\n"
     ]
    }
   ],
   "source": [
    "# import spech_to_text\n",
    "api_key='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'\n",
    "\n",
    "with open(r\"C:\\Users\\nico\\OneDrive\\Desktop\\BootcampXperience\\bx_project\\multimedia\\español-mexicano.mp3\", \"rb\") as f:\n",
    "            audio_bytes = f.read()\n",
    "\n",
    "        \n",
    "print(f\"📁 Archivo leído: {len(audio_bytes)} bytes\")\n",
    "print(\"🔄 Transcribiendo...\")\n",
    "        \n",
    "# Transcribir\n",
    "resultado = spech_to_text.transcribir_con_groq_prueba(audio_bytes, api_key)\n",
    "print(resultado)"
   ]
  },
  {
   "cell_type": "code",
   "execution_count": 5,
   "metadata": {},
   "outputs": [
    {
     "name": "stdout",
     "output_type": "stream",
     "text": [
      "📁 Archivo leído: 398777 bytes\n",
      "🔄 Transcribiendo...\n",
      "Ay, por fin me contestáis el teléfono. Te he llamado más que la chucha, weón. No tengo ni una llamada perdida tuya, nada. Búscala, pues, weón. ¿Qué guá querí? ¿A dónde está ahí? ¿Qué te importa? Estoy ocupado, weón. Uy, aprovecha, aprovecha de tomar, de wear con los culiá, a tus amigos, toda la weá que tengáis que hacer porque no salís más con Chetumare. ¿Y quién dijo esa weá? Yo lo digo, po. Aya.\n"
     ]
    }
   ],
   "source": [
    "API_KEY = \"b55b1df745134c89b6ff5ac0110a982c\"\n",
    "\n",
    "with open(r\"C:\\Users\\nico\\OneDrive\\Desktop\\BootcampXperience\\bx_project\\multimedia\\tiktokio.com_CrZQB48bbtDTCQeej5Uf.mp3\", \"rb\") as f:\n",
    "            audio_bytes = f.read()\n",
    "\n",
    "print(f\"📁 Archivo leído: {len(audio_bytes)} bytes\")\n",
    "print(\"🔄 Transcribiendo...\")   \n",
    "\n",
    "resultado = spech_to_text.transcribir_con_assemblyai(audio_bytes, API_KEY)\n",
    "print(resultado)"
   ]
  },
  {
   "cell_type": "code",
   "execution_count": null,
   "metadata": {},
   "outputs": [],
   "source": [
    "#texto to speech"
   ]
  },
  {
   "cell_type": "code",
   "execution_count": null,
   "metadata": {},
   "outputs": [],
   "source": [
    "#integrate all"
   ]
  }
 ],
 "metadata": {
  "kernelspec": {
   "display_name": "bx_project",
   "language": "python",
   "name": "python3"
  },
  "language_info": {
   "codemirror_mode": {
    "name": "ipython",
    "version": 3
   },
   "file_extension": ".py",
   "mimetype": "text/x-python",
   "name": "python",
   "nbconvert_exporter": "python",
   "pygments_lexer": "ipython3",
   "version": "3.13.0"
  },
  "orig_nbformat": 4
 },
 "nbformat": 4,
 "nbformat_minor": 2
}
