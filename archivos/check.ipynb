{
 "cells": [
  {
   "cell_type": "code",
   "execution_count": 2,
   "metadata": {},
   "outputs": [],
   "source": [
    "import spech_to_text"
   ]
  },
  {
   "cell_type": "code",
   "execution_count": 2,
   "metadata": {},
   "outputs": [],
   "source": [
    "API_KEY = \"\""
   ]
  },
  {
   "cell_type": "code",
   "execution_count": 5,
   "metadata": {},
   "outputs": [
    {
     "name": "stderr",
     "output_type": "stream",
     "text": [
      "2025-06-05 21:29:51.727 WARNING streamlit.runtime.scriptrunner_utils.script_run_context: Thread 'MainThread': missing ScriptRunContext! This warning can be ignored when running in bare mode.\n"
     ]
    },
    {
     "ename": "FileNotFoundError",
     "evalue": "[Errno 2] No such file or directory: 'preguntas.json'",
     "output_type": "error",
     "traceback": [
      "\u001b[31m---------------------------------------------------------------------------\u001b[39m",
      "\u001b[31mFileNotFoundError\u001b[39m                         Traceback (most recent call last)",
      "\u001b[36mCell\u001b[39m\u001b[36m \u001b[39m\u001b[32mIn[5]\u001b[39m\u001b[32m, line 1\u001b[39m\n\u001b[32m----> \u001b[39m\u001b[32m1\u001b[39m \u001b[38;5;28;01mimport\u001b[39;00m\u001b[38;5;250m \u001b[39m\u001b[34;01mevaluador_audio\u001b[39;00m\u001b[34;01m.\u001b[39;00m\u001b[34;01marchivos\u001b[39;00m\u001b[34;01m.\u001b[39;00m\u001b[34;01mrequest_model\u001b[39;00m\u001b[38;5;250m \u001b[39m\u001b[38;5;28;01mas\u001b[39;00m\u001b[38;5;250m \u001b[39m\u001b[34;01mrequest_model\u001b[39;00m\n\u001b[32m      3\u001b[39m \u001b[38;5;66;03m#Función simple (sin historial)\u001b[39;00m\n\u001b[32m      4\u001b[39m resultado_simple = request_model.evaluar_con_groq(\n\u001b[32m      5\u001b[39m         API_KEY,\n\u001b[32m      6\u001b[39m         \u001b[33m\"\u001b[39m\u001b[33m¿Qué es overfitting?\u001b[39m\u001b[33m\"\u001b[39m,\n\u001b[32m      7\u001b[39m         \u001b[33m\"\u001b[39m\u001b[33mEs cuando el modelo se ajusta demasiado a los datos de entrenamiento.\u001b[39m\u001b[33m\"\u001b[39m\n\u001b[32m      8\u001b[39m )\n",
      "\u001b[36mFile \u001b[39m\u001b[32mc:\\Users\\nico\\OneDrive\\Desktop\\BootcampXperience\\bx_project\\evaluador_audio\\archivos\\evaluador_audio.py:15\u001b[39m\n\u001b[32m     12\u001b[39m st.set_page_config(page_title=\u001b[33m\"\u001b[39m\u001b[33mEvaluador por Voz\u001b[39m\u001b[33m\"\u001b[39m, layout=\u001b[33m\"\u001b[39m\u001b[33mcentered\u001b[39m\u001b[33m\"\u001b[39m)\n\u001b[32m     14\u001b[39m \u001b[38;5;66;03m# Cargar preguntas desde JSON\u001b[39;00m\n\u001b[32m---> \u001b[39m\u001b[32m15\u001b[39m \u001b[38;5;28;01mwith\u001b[39;00m \u001b[38;5;28;43mopen\u001b[39;49m\u001b[43m(\u001b[49m\u001b[33;43m\"\u001b[39;49m\u001b[33;43mpreguntas.json\u001b[39;49m\u001b[33;43m\"\u001b[39;49m\u001b[43m,\u001b[49m\u001b[43m \u001b[49m\u001b[33;43m\"\u001b[39;49m\u001b[33;43mr\u001b[39;49m\u001b[33;43m\"\u001b[39;49m\u001b[43m,\u001b[49m\u001b[43m \u001b[49m\u001b[43mencoding\u001b[49m\u001b[43m=\u001b[49m\u001b[33;43m\"\u001b[39;49m\u001b[33;43mutf-8\u001b[39;49m\u001b[33;43m\"\u001b[39;49m\u001b[43m)\u001b[49m \u001b[38;5;28;01mas\u001b[39;00m f:\n\u001b[32m     16\u001b[39m     preguntas = json.load(f)\n\u001b[32m     18\u001b[39m \u001b[38;5;28;01mif\u001b[39;00m \u001b[33m\"\u001b[39m\u001b[33mresultados\u001b[39m\u001b[33m\"\u001b[39m \u001b[38;5;129;01mnot\u001b[39;00m \u001b[38;5;129;01min\u001b[39;00m st.session_state:\n",
      "\u001b[31mFileNotFoundError\u001b[39m: [Errno 2] No such file or directory: 'preguntas.json'"
     ]
    }
   ],
   "source": [
    "import evaluador_audio.archivos.request_model as request_model\n",
    "\n",
    "#Función simple (sin historial)\n",
    "resultado_simple = request_model.evaluar_con_groq(\n",
    "        API_KEY,\n",
    "        \"¿Qué es overfitting?\",\n",
    "        \"Es cuando el modelo se ajusta demasiado a los datos de entrenamiento.\"\n",
    ")\n",
    "print(\"Evaluación simple:\", resultado_simple)"
   ]
  },
  {
   "cell_type": "code",
   "execution_count": 3,
   "metadata": {},
   "outputs": [
    {
     "name": "stdout",
     "output_type": "stream",
     "text": [
      "📁 Archivo leído: 645035 bytes\n",
      "🔄 Transcribiendo...\n",
      " Nosotros los mexicanos decimos, no chingues wey Y nosotros los españoles decimos, no jodas tio Nosotros los mexicanos decimos, vamos por unas chelas Nosotros los españoles decimos, vamos a por unas birras Nosotros los mexicanos decimos, necesito comprar unos lentes Nosotros los españoles decimos, necesito comprar unas gafas Nosotros los mexicanos decimos, que chingado estás haciendo Y nosotros los españoles decimos, que coño haces Nosotros los mexicanos decimos, que van a hacer ustedes después Y nosotros los españoles decimos, y que vais a hacer vosotros después Nosotros los mexicanos decimos estoy sorprendido. Nosotros los españoles decimos estoy flipando. Y nosotros los mexicanos decimos estoy enojado. Y nosotros los españoles decimos estoy cabreado o estoy mosqueado.\n"
     ]
    }
   ],
   "source": [
    "# import spech_to_text\n",
    "api_key='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'\n",
    "\n",
    "with open(r\"C:\\Users\\nico\\OneDrive\\Desktop\\BootcampXperience\\bx_project\\multimedia\\español-mexicano.mp3\", \"rb\") as f:\n",
    "            audio_bytes = f.read()\n",
    "\n",
    "        \n",
    "print(f\"📁 Archivo leído: {len(audio_bytes)} bytes\")\n",
    "print(\"🔄 Transcribiendo...\")\n",
    "        \n",
    "# Transcribir\n",
    "resultado = spech_to_text.transcribir_con_groq_prueba(audio_bytes, api_key)\n",
    "print(resultado)"
   ]
  },
  {
   "cell_type": "code",
   "execution_count": 4,
   "metadata": {},
   "outputs": [
    {
     "name": "stdout",
     "output_type": "stream",
     "text": [
      "📁 Archivo leído: 645035 bytes\n",
      "🔄 Transcribiendo...\n",
      "Nosotros los mexicanos decimos no chingues güey. Y nosotros los españoles no jodas tío. Nosotros los mexicanos vamos por unas chelas. Nosotros los españoles decimos vamos a por unas birras. Nosotros los mexicanos Necesito comprar unos lentes. Nosotros los españoles Necesito comprar unas gafas. ¿Nosotros los mexicanos qué chingado estás haciendo? ¿Y nosotros los españoles qué coño haces? ¿Nosotros los mexicanos qué van a hacer ustedes después? ¿Y nosotros los españoles y qué vais a hacer vosotros después? Nosotros los mexicanos estoy sorprendido. Nosotros los españoles estoy flipando. Y nosotros los mexicanos estoy enojado. ¿Y nosotros los españoles estoy cabreado o estoy mosqueado?\n"
     ]
    }
   ],
   "source": [
    "API_KEY = \"b55b1df745134c89b6ff5ac0110a982c\"\n",
    "\n",
    "with open(r\"C:\\Users\\nico\\OneDrive\\Desktop\\BootcampXperience\\bx_project\\multimedia\\español-mexicano.mp3\", \"rb\") as f:\n",
    "            audio_bytes = f.read()\n",
    "\n",
    "print(f\"📁 Archivo leído: {len(audio_bytes)} bytes\")\n",
    "print(\"🔄 Transcribiendo...\")   \n",
    "\n",
    "resultado = spech_to_text.transcribir_con_assemblyai(audio_bytes, API_KEY)\n",
    "print(resultado)"
   ]
  },
  {
   "cell_type": "code",
   "execution_count": null,
   "metadata": {},
   "outputs": [],
   "source": [
    "#texto to speech"
   ]
  },
  {
   "cell_type": "code",
   "execution_count": null,
   "metadata": {},
   "outputs": [],
   "source": [
    "#integrate all"
   ]
  }
 ],
 "metadata": {
  "kernelspec": {
   "display_name": "bx_project",
   "language": "python",
   "name": "python3"
  },
  "language_info": {
   "codemirror_mode": {
    "name": "ipython",
    "version": 3
   },
   "file_extension": ".py",
   "mimetype": "text/x-python",
   "name": "python",
   "nbconvert_exporter": "python",
   "pygments_lexer": "ipython3",
   "version": "3.13.0"
  },
  "orig_nbformat": 4
 },
 "nbformat": 4,
 "nbformat_minor": 2
}
